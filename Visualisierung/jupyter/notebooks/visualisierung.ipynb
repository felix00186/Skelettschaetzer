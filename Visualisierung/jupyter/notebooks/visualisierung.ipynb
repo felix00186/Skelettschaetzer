{
 "cells": [
  {
   "cell_type": "markdown",
   "id": "c4518229-bb24-4ad5-a6f5-9fd011c66ade",
   "metadata": {},
   "source": [
    "# Skelettschätzer: Visualisierung"
   ]
  },
  {
   "cell_type": "code",
   "execution_count": 1,
   "id": "b9aeee00-100c-411b-8039-528ba52b4a07",
   "metadata": {},
   "outputs": [],
   "source": [
    "import os\n",
    "import ipywidgets as widgets\n",
    "from IPython.display import display, clear_output, HTML\n",
    "data_folder = \"/data\""
   ]
  },
  {
   "cell_type": "code",
   "execution_count": 2,
   "id": "c05c7337-a2e9-4d75-80df-ccad55b1a389",
   "metadata": {},
   "outputs": [
    {
     "ename": "PermissionError",
     "evalue": "[Errno 13] Permission denied: '/data'",
     "output_type": "error",
     "traceback": [
      "\u001B[0;31m---------------------------------------------------------------------------\u001B[0m",
      "\u001B[0;31mPermissionError\u001B[0m                           Traceback (most recent call last)",
      "Cell \u001B[0;32mIn[2], line 15\u001B[0m\n\u001B[1;32m     11\u001B[0m \u001B[38;5;28;01mdef\u001B[39;00m \u001B[38;5;21mupdate_dropdown\u001B[39m():\n\u001B[1;32m     12\u001B[0m     video_dropdown\u001B[38;5;241m.\u001B[39moptions \u001B[38;5;241m=\u001B[39m get_output_videos()\n\u001B[1;32m     14\u001B[0m video_dropdown \u001B[38;5;241m=\u001B[39m widgets\u001B[38;5;241m.\u001B[39mDropdown(\n\u001B[0;32m---> 15\u001B[0m     options\u001B[38;5;241m=\u001B[39m\u001B[43mget_output_videos\u001B[49m\u001B[43m(\u001B[49m\u001B[43m)\u001B[49m,\n\u001B[1;32m     16\u001B[0m     description\u001B[38;5;241m=\u001B[39m\u001B[38;5;124m'\u001B[39m\u001B[38;5;124mVideo:\u001B[39m\u001B[38;5;124m'\u001B[39m,\n\u001B[1;32m     17\u001B[0m     disabled\u001B[38;5;241m=\u001B[39m\u001B[38;5;28;01mFalse\u001B[39;00m\n\u001B[1;32m     18\u001B[0m )\n\u001B[1;32m     20\u001B[0m \u001B[38;5;66;03m# Button\u001B[39;00m\n\u001B[1;32m     21\u001B[0m video_commit_button \u001B[38;5;241m=\u001B[39m widgets\u001B[38;5;241m.\u001B[39mButton(\n\u001B[1;32m     22\u001B[0m     description\u001B[38;5;241m=\u001B[39m\u001B[38;5;124m'\u001B[39m\u001B[38;5;124mAuswählen\u001B[39m\u001B[38;5;124m'\u001B[39m,\n\u001B[1;32m     23\u001B[0m     button_style\u001B[38;5;241m=\u001B[39m\u001B[38;5;124m'\u001B[39m\u001B[38;5;124msuccess\u001B[39m\u001B[38;5;124m'\u001B[39m\n\u001B[1;32m     24\u001B[0m )\n",
      "Cell \u001B[0;32mIn[2], line 5\u001B[0m, in \u001B[0;36mget_output_videos\u001B[0;34m()\u001B[0m\n\u001B[1;32m      4\u001B[0m \u001B[38;5;28;01mdef\u001B[39;00m \u001B[38;5;21mget_output_videos\u001B[39m():\n\u001B[0;32m----> 5\u001B[0m     filelists \u001B[38;5;241m=\u001B[39m [[file \u001B[38;5;28;01mfor\u001B[39;00m file \u001B[38;5;129;01min\u001B[39;00m os\u001B[38;5;241m.\u001B[39mlistdir(\u001B[38;5;28mdir\u001B[39m) \u001B[38;5;28;01mif\u001B[39;00m file\u001B[38;5;241m.\u001B[39mendswith(\u001B[38;5;124m\"\u001B[39m\u001B[38;5;124m.mp4\u001B[39m\u001B[38;5;124m\"\u001B[39m)] \u001B[38;5;28;01mfor\u001B[39;00m \u001B[38;5;28mdir\u001B[39m \u001B[38;5;129;01min\u001B[39;00m \u001B[43mget_output_folders\u001B[49m\u001B[43m(\u001B[49m\u001B[43m)\u001B[49m]\n\u001B[1;32m      6\u001B[0m     filelist \u001B[38;5;241m=\u001B[39m \u001B[38;5;28mset\u001B[39m(filelists[\u001B[38;5;241m0\u001B[39m])\n\u001B[1;32m      7\u001B[0m     \u001B[38;5;28;01mfor\u001B[39;00m f \u001B[38;5;129;01min\u001B[39;00m filelists[\u001B[38;5;241m1\u001B[39m:]:\n",
      "Cell \u001B[0;32mIn[2], line 2\u001B[0m, in \u001B[0;36mget_output_folders\u001B[0;34m()\u001B[0m\n\u001B[1;32m      1\u001B[0m \u001B[38;5;28;01mdef\u001B[39;00m \u001B[38;5;21mget_output_folders\u001B[39m():\n\u001B[0;32m----> 2\u001B[0m     \u001B[38;5;28;01mreturn\u001B[39;00m [os\u001B[38;5;241m.\u001B[39mpath\u001B[38;5;241m.\u001B[39mjoin(data_folder, \u001B[38;5;28mdir\u001B[39m) \u001B[38;5;28;01mfor\u001B[39;00m \u001B[38;5;28mdir\u001B[39m \u001B[38;5;129;01min\u001B[39;00m \u001B[43mos\u001B[49m\u001B[38;5;241;43m.\u001B[39;49m\u001B[43mlistdir\u001B[49m\u001B[43m(\u001B[49m\u001B[43mdata_folder\u001B[49m\u001B[43m)\u001B[49m \u001B[38;5;28;01mif\u001B[39;00m \u001B[38;5;28mdir\u001B[39m \u001B[38;5;241m!=\u001B[39m \u001B[38;5;124m\"\u001B[39m\u001B[38;5;124minput\u001B[39m\u001B[38;5;124m\"\u001B[39m]\n",
      "\u001B[0;31mPermissionError\u001B[0m: [Errno 13] Permission denied: '/data'"
     ]
    }
   ],
   "source": [
    "def get_output_folders():\n",
    "    return [os.path.join(data_folder, dir) for dir in os.listdir(data_folder) if dir != \"input\"]\n",
    "\n",
    "def get_output_videos():\n",
    "    filelists = [[file for file in os.listdir(dir) if file.endswith(\".mp4\")] for dir in get_output_folders()]\n",
    "    filelist = set(filelists[0])\n",
    "    for f in filelists[1:]:\n",
    "        filelist &= set(f)\n",
    "    return filelist\n",
    "\n",
    "def update_dropdown():\n",
    "    video_dropdown.options = get_output_videos()\n",
    "\n",
    "video_dropdown = widgets.Dropdown(\n",
    "    options=get_output_videos(),\n",
    "    description='Video:',\n",
    "    disabled=False\n",
    ")\n",
    "\n",
    "# Button\n",
    "video_commit_button = widgets.Button(\n",
    "    description='Auswählen',\n",
    "    button_style='success'\n",
    ")\n",
    "\n",
    "# Funktion, die beim Klick auf den Button ausgeführt wird\n",
    "def commit_video(b):\n",
    "    selected_video = video_dropdown.value\n",
    "    with video_selected_output:\n",
    "        clear_output()\n",
    "        display(HTML(f'<p style=\"color:darkgreen;font-weight:bold;\">✅ {selected_video} ausgewählt</p>'))\n",
    "    video_paths = [os.path.join(dir, selected_video) for dir in get_output_folders()]\n",
    "    with video_container:\n",
    "        clear_output()\n",
    "        html = \"\".join([f'<video width=\"480\" controls><source src=\"videoserver:8000//{vid}\" type=\"video/mp4\">X</video>' for vid in video_paths])\n",
    "        display(HTML(f'<div>{html}</div>'))\n",
    "\n",
    "# Button mit Funktion verbinden\n",
    "video_commit_button.on_click(commit_video)\n",
    "\n",
    "video_selected_output = widgets.Output()\n",
    "video_container = widgets.Output()\n",
    "\n",
    "# Widgets anzeigen\n",
    "display(video_dropdown, video_commit_button, video_selected_output, video_container)"
   ]
  }
 ],
 "metadata": {
  "kernelspec": {
   "display_name": "Python 3 (ipykernel)",
   "language": "python",
   "name": "python3"
  },
  "language_info": {
   "codemirror_mode": {
    "name": "ipython",
    "version": 3
   },
   "file_extension": ".py",
   "mimetype": "text/x-python",
   "name": "python",
   "nbconvert_exporter": "python",
   "pygments_lexer": "ipython3",
   "version": "3.11.6"
  }
 },
 "nbformat": 4,
 "nbformat_minor": 5
}
