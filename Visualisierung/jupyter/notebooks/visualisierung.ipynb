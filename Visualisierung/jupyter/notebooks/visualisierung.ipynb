{
 "cells": [
  {
   "cell_type": "markdown",
   "id": "c4518229-bb24-4ad5-a6f5-9fd011c66ade",
   "metadata": {},
   "source": [
    "# Skelettschätzer: Visualisierung"
   ]
  },
  {
   "cell_type": "code",
   "id": "b9aeee00-100c-411b-8039-528ba52b4a07",
   "metadata": {},
   "source": [
    "import os\n",
    "import ipywidgets as widgets\n",
    "from IPython.display import display, clear_output, HTML\n",
    "import rpy2.robjects as robjects\n",
    "data_folder = \"/home/jovyan/data\""
   ],
   "outputs": [],
   "execution_count": null
  },
  {
   "cell_type": "code",
   "id": "c05c7337-a2e9-4d75-80df-ccad55b1a389",
   "metadata": {},
   "source": [
    "def get_output_folders():\n",
    "    return [os.path.join(data_folder, dir) for dir in os.listdir(data_folder) if dir != \"input\"]\n",
    "\n",
    "def get_server_output_folders():\n",
    "    return [dir for dir in os.listdir(data_folder) if dir != \"input\"]\n",
    "\n",
    "def get_output_videos():\n",
    "    filelists = [[file for file in os.listdir(dir) if file.endswith(\".mp4\")] for dir in get_output_folders()]\n",
    "    filelist = set(filelists[0])\n",
    "    for f in filelists[1:]:\n",
    "        filelist &= set(f)\n",
    "    return filelist\n",
    "\n",
    "def update_dropdown():\n",
    "    video_dropdown.options = get_output_videos()\n",
    "\n",
    "video_dropdown = widgets.Dropdown(\n",
    "    options=get_output_videos(),\n",
    "    description='Video:',\n",
    "    disabled=False\n",
    ")\n",
    "\n",
    "# Button\n",
    "video_commit_button = widgets.Button(\n",
    "    description='Auswählen',\n",
    "    button_style='success'\n",
    ")\n",
    "\n",
    "# Funktion, die beim Klick auf den Button ausgeführt wird\n",
    "def commit_video(b):\n",
    "    selected_video = video_dropdown.value\n",
    "    with video_selected_output:\n",
    "        clear_output()\n",
    "        display(HTML(f'<p style=\"color:darkgreen;font-weight:bold;\">✅ {selected_video} ausgewählt</p>'))\n",
    "    video_paths = [(dir, os.path.join(dir, selected_video)) for dir in get_server_output_folders()]\n",
    "    with video_container:\n",
    "        clear_output()\n",
    "        html = \"\".join([f'<div style=\"display:block;\"><h3>{dir}</h3><video style=\"width:100%;\" controls><source src=\"http://localhost:8000/{vid}\" type=\"video/mp4\">X</video></div>' for dir, vid in video_paths])\n",
    "        display(HTML(f'<div style=\"display:grid;grid-template-columns:1fr 1fr;\">{html}</div>'))\n",
    "\n",
    "# Button mit Funktion verbinden\n",
    "video_commit_button.on_click(commit_video)\n",
    "\n",
    "video_selected_output = widgets.Output()\n",
    "video_container = widgets.Output()\n",
    "\n",
    "# Widgets anzeigen\n",
    "display(video_dropdown, video_commit_button, video_selected_output, video_container)"
   ],
   "outputs": [],
   "execution_count": null
  },
  {
   "metadata": {},
   "cell_type": "markdown",
   "source": "## Betrachten der Abweichungen der Positionen",
   "id": "51d5882f6a07e7ec"
  },
  {
   "metadata": {},
   "cell_type": "code",
   "source": "robjects.r.source(\"./table_transform.R\")",
   "id": "a597dc8680fe3242",
   "outputs": [],
   "execution_count": null
  }
 ],
 "metadata": {
  "kernelspec": {
   "display_name": "Python 3 (ipykernel)",
   "language": "python",
   "name": "python3"
  },
  "language_info": {
   "codemirror_mode": {
    "name": "ipython",
    "version": 3
   },
   "file_extension": ".py",
   "mimetype": "text/x-python",
   "name": "python",
   "nbconvert_exporter": "python",
   "pygments_lexer": "ipython3",
   "version": "3.11.6"
  }
 },
 "nbformat": 4,
 "nbformat_minor": 5
}
